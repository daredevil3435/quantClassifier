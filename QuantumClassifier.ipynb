{
  "nbformat": 4,
  "nbformat_minor": 0,
  "metadata": {
    "colab": {
      "provenance": []
    },
    "kernelspec": {
      "name": "python3",
      "display_name": "Python 3"
    },
    "language_info": {
      "name": "python"
    }
  },
  "cells": [
    {
      "cell_type": "code",
      "execution_count": null,
      "metadata": {
        "id": "RzInrcQ8V4Ua"
      },
      "outputs": [],
      "source": [
        "from IPython.display import clear_output\n",
        "!pip install -q tensorflow"
      ]
    },
    {
      "cell_type": "code",
      "source": [
        "!pip install -q tensorflow_quantum"
      ],
      "metadata": {
        "colab": {
          "base_uri": "https://localhost:8080/"
        },
        "collapsed": true,
        "id": "q6JwUgcbWEjM",
        "outputId": "01ffcf07-5bba-434f-eb94-87356d1adfd1"
      },
      "execution_count": null,
      "outputs": [
        {
          "output_type": "stream",
          "name": "stdout",
          "text": [
            "\u001b[2K     \u001b[90m━━━━━━━━━━━━━━━━━━━━━━━━━━━━━━━━━━━━━━━━\u001b[0m \u001b[32m12.8/12.8 MB\u001b[0m \u001b[31m22.1 MB/s\u001b[0m eta \u001b[36m0:00:00\u001b[0m\n",
            "\u001b[2K     \u001b[90m━━━━━━━━━━━━━━━━━━━━━━━━━━━━━━━━━━━━━━━━\u001b[0m \u001b[32m1.8/1.8 MB\u001b[0m \u001b[31m29.3 MB/s\u001b[0m eta \u001b[36m0:00:00\u001b[0m\n",
            "\u001b[2K     \u001b[90m━━━━━━━━━━━━━━━━━━━━━━━━━━━━━━━━━━━━━━━━\u001b[0m \u001b[32m598.8/598.8 kB\u001b[0m \u001b[31m14.9 MB/s\u001b[0m eta \u001b[36m0:00:00\u001b[0m\n",
            "\u001b[2K     \u001b[90m━━━━━━━━━━━━━━━━━━━━━━━━━━━━━━━━━━━━━━━━\u001b[0m \u001b[32m5.7/5.7 MB\u001b[0m \u001b[31m46.6 MB/s\u001b[0m eta \u001b[36m0:00:00\u001b[0m\n",
            "\u001b[?25h\u001b[31mERROR: pip's dependency resolver does not currently take into account all the packages that are installed. This behaviour is the source of the following dependency conflicts.\n",
            "torch 2.3.0+cu121 requires nvidia-cublas-cu12==12.1.3.1; platform_system == \"Linux\" and platform_machine == \"x86_64\", which is not installed.\n",
            "torch 2.3.0+cu121 requires nvidia-cuda-cupti-cu12==12.1.105; platform_system == \"Linux\" and platform_machine == \"x86_64\", which is not installed.\n",
            "torch 2.3.0+cu121 requires nvidia-cuda-nvrtc-cu12==12.1.105; platform_system == \"Linux\" and platform_machine == \"x86_64\", which is not installed.\n",
            "torch 2.3.0+cu121 requires nvidia-cuda-runtime-cu12==12.1.105; platform_system == \"Linux\" and platform_machine == \"x86_64\", which is not installed.\n",
            "torch 2.3.0+cu121 requires nvidia-cudnn-cu12==8.9.2.26; platform_system == \"Linux\" and platform_machine == \"x86_64\", which is not installed.\n",
            "torch 2.3.0+cu121 requires nvidia-cufft-cu12==11.0.2.54; platform_system == \"Linux\" and platform_machine == \"x86_64\", which is not installed.\n",
            "torch 2.3.0+cu121 requires nvidia-curand-cu12==10.3.2.106; platform_system == \"Linux\" and platform_machine == \"x86_64\", which is not installed.\n",
            "torch 2.3.0+cu121 requires nvidia-cusolver-cu12==11.4.5.107; platform_system == \"Linux\" and platform_machine == \"x86_64\", which is not installed.\n",
            "torch 2.3.0+cu121 requires nvidia-cusparse-cu12==12.1.0.106; platform_system == \"Linux\" and platform_machine == \"x86_64\", which is not installed.\n",
            "torch 2.3.0+cu121 requires nvidia-nccl-cu12==2.20.5; platform_system == \"Linux\" and platform_machine == \"x86_64\", which is not installed.\n",
            "torch 2.3.0+cu121 requires nvidia-nvtx-cu12==12.1.105; platform_system == \"Linux\" and platform_machine == \"x86_64\", which is not installed.\u001b[0m\u001b[31m\n",
            "\u001b[0m"
          ]
        }
      ]
    },
    {
      "cell_type": "code",
      "source": [
        "!pip install cirq===1.3.0\n",
        "clear_output()"
      ],
      "metadata": {
        "collapsed": true,
        "id": "-ORCKE4MWO6M"
      },
      "execution_count": null,
      "outputs": []
    },
    {
      "cell_type": "code",
      "source": [
        "import tensorflow as tf\n",
        "import numpy as np\n",
        "from sklearn.model_selection import train_test_split\n",
        "\n",
        "import tensorflow_quantum as tq\n",
        "import cirq\n",
        "import sympy\n",
        "\n",
        "from cirq.contrib.svg import SVGCircuit\n",
        "import matplotlib.pyplot as plt\n"
      ],
      "metadata": {
        "id": "Rg6yFWTIX7ir"
      },
      "execution_count": null,
      "outputs": []
    },
    {
      "cell_type": "code",
      "source": [
        "#printing versions we're using\n",
        "print(\"We are using the Tensorflow-quantum verions {}\".format(tq.__version__))\n",
        "print(\"We are using the Cirq verions {}\".format(cirq.__version__))"
      ],
      "metadata": {
        "colab": {
          "base_uri": "https://localhost:8080/"
        },
        "id": "OgqoR-cDYsly",
        "outputId": "17747ef5-a4ed-4483-91e4-0afa06764fed"
      },
      "execution_count": null,
      "outputs": [
        {
          "output_type": "stream",
          "name": "stdout",
          "text": [
            "We are using the Tensorflow-quantum verions 0.7.2\n",
            "We are using the Cirq verions 1.3.0\n"
          ]
        }
      ]
    },
    {
      "cell_type": "code",
      "source": [
        "from tensorflow.keras.datasets import fashion_mnist as dataset"
      ],
      "metadata": {
        "id": "pmzdyqwyZUpK"
      },
      "execution_count": null,
      "outputs": []
    },
    {
      "cell_type": "code",
      "source": [
        "(X_train, y_train), (X_test, y_test) = dataset.load_data()"
      ],
      "metadata": {
        "colab": {
          "base_uri": "https://localhost:8080/"
        },
        "id": "xJ1B1bbWZdzF",
        "outputId": "412de1f9-3cf6-46ab-8f64-5f10350b9ac5"
      },
      "execution_count": null,
      "outputs": [
        {
          "output_type": "stream",
          "name": "stdout",
          "text": [
            "Downloading data from https://storage.googleapis.com/tensorflow/tf-keras-datasets/train-labels-idx1-ubyte.gz\n",
            "29515/29515 [==============================] - 0s 0us/step\n",
            "Downloading data from https://storage.googleapis.com/tensorflow/tf-keras-datasets/train-images-idx3-ubyte.gz\n",
            "26421880/26421880 [==============================] - 0s 0us/step\n",
            "Downloading data from https://storage.googleapis.com/tensorflow/tf-keras-datasets/t10k-labels-idx1-ubyte.gz\n",
            "5148/5148 [==============================] - 0s 0us/step\n",
            "Downloading data from https://storage.googleapis.com/tensorflow/tf-keras-datasets/t10k-images-idx3-ubyte.gz\n",
            "4422102/4422102 [==============================] - 0s 0us/step\n"
          ]
        }
      ]
    },
    {
      "cell_type": "code",
      "source": [
        "print(\"the shape of X_train is {}\".format(X_train.shape))\n",
        "print(\"the shape of y_train is {}\".format(y_train.shape))\n",
        "print(\"the shape of X_test is {}\".format(X_test.shape))\n",
        "print(\"the shape of y_test is {}\".format(y_test.shape))"
      ],
      "metadata": {
        "colab": {
          "base_uri": "https://localhost:8080/"
        },
        "id": "ex6u2aF6Zrvh",
        "outputId": "45b12e53-77db-447f-85bb-8154f830e4d7"
      },
      "execution_count": null,
      "outputs": [
        {
          "output_type": "stream",
          "name": "stdout",
          "text": [
            "the shape of X_train is (60000, 28, 28)\n",
            "the shape of y_train is (60000,)\n",
            "the shape of X_test is (10000, 28, 28)\n",
            "the shape of y_test is (10000,)\n"
          ]
        }
      ]
    },
    {
      "cell_type": "code",
      "source": [
        "l1 = [3,2,3,4]\n",
        "for i in l1:\n",
        "  print((i==3)|(i==2))"
      ],
      "metadata": {
        "colab": {
          "base_uri": "https://localhost:8080/"
        },
        "id": "x4OXr6VFanbf",
        "outputId": "0c3558c4-7118-4c22-a710-4c1fbbc9bfc2"
      },
      "execution_count": null,
      "outputs": [
        {
          "output_type": "stream",
          "name": "stdout",
          "text": [
            "True\n",
            "True\n",
            "True\n",
            "False\n"
          ]
        }
      ]
    },
    {
      "cell_type": "code",
      "source": [
        "def filter_data(x,y):\n",
        "  \"\"\"\n",
        "\n",
        "  Helper function to filter dataset for label 5 and 9\n",
        "\n",
        "  \"\"\"\n",
        "  keep = (y==5) | (y==9)\n",
        "  x, y = x[keep], y[keep]\n",
        "\n",
        "  # y = true if y == 5 y = false if y == 9\n",
        "  y = y == 5\n",
        "  return x,y"
      ],
      "metadata": {
        "id": "BHbUoUCSZ__V"
      },
      "execution_count": null,
      "outputs": []
    },
    {
      "cell_type": "code",
      "source": [
        "X_train, y_train = filter_data(X_train, y_train)\n",
        "\n",
        "X_test, y_test = filter_data(X_test, y_test)"
      ],
      "metadata": {
        "collapsed": true,
        "id": "e5CNFdGTbb0m"
      },
      "execution_count": null,
      "outputs": []
    },
    {
      "cell_type": "code",
      "source": [
        "print(\"the shape of X_train is {}\".format(X_train.shape))\n",
        "print(\"the shape of y_train is {}\".format(y_train.shape))\n",
        "print(\"the shape of X_test is {}\".format(X_test.shape))\n",
        "print(\"the shape of y_test is {}\".format(y_test.shape))"
      ],
      "metadata": {
        "colab": {
          "base_uri": "https://localhost:8080/"
        },
        "id": "8FTXMZotcTXT",
        "outputId": "d83aeab6-7a52-493a-f689-6a2558b6ca2e"
      },
      "execution_count": null,
      "outputs": [
        {
          "output_type": "stream",
          "name": "stdout",
          "text": [
            "the shape of X_train is (12000, 28, 28)\n",
            "the shape of y_train is (12000,)\n",
            "the shape of X_test is (2000, 28, 28)\n",
            "the shape of y_test is (2000,)\n"
          ]
        }
      ]
    },
    {
      "cell_type": "code",
      "source": [
        "print(\"the first image has the label {}\".format(y_train[0]))\n",
        "plt.imshow(X_train[0])\n",
        "plt.colorbar()\n",
        "plt.title(\"visualization of dataset\")\n",
        "plt.show()"
      ],
      "metadata": {
        "colab": {
          "base_uri": "https://localhost:8080/",
          "height": 470
        },
        "id": "oV71KVbAcaqP",
        "outputId": "b8fc091a-7aa3-4a9e-d5c1-82cec077aa02"
      },
      "execution_count": null,
      "outputs": [
        {
          "output_type": "stream",
          "name": "stdout",
          "text": [
            "the first image has the label False\n"
          ]
        },
        {
          "output_type": "display_data",
          "data": {
            "text/plain": [
              "<Figure size 640x480 with 2 Axes>"
            ],
            "image/png": "[encoded data removed]"
          },
          "metadata": {}
        }
      ]
    },
    {
      "cell_type": "code",
      "source": [
        "X_train = X_train/255.0\n",
        "X_test = X_test/255.0"
      ],
      "metadata": {
        "id": "3C3gHbtHdUa3"
      },
      "execution_count": null,
      "outputs": []
    },
    {
      "cell_type": "code",
      "source": [
        "plt.imshow(X_train[0])\n",
        "plt.colorbar()\n",
        "plt.title(\"visualization of dataset\")\n",
        "plt.show()"
      ],
      "metadata": {
        "colab": {
          "base_uri": "https://localhost:8080/",
          "height": 452
        },
        "id": "UsKwqzO-uKuD",
        "outputId": "570865b4-e384-4afa-ff79-f5bd9d2f7359"
      },
      "execution_count": null,
      "outputs": [
        {
          "output_type": "display_data",
          "data": {
            "text/plain": [
              "<Figure size 640x480 with 2 Axes>"
            ],
            "image/png": "[encoded data removed]"
          },
          "metadata": {}
        }
      ]
    },
    {
      "cell_type": "code",
      "source": [],
      "metadata": {
        "id": "dQfWyP44yReR"
      },
      "execution_count": null,
      "outputs": []
    },
    {
      "cell_type": "code",
      "source": [
        "X_train = X_train.reshape(X_train.shape[0], *(28,28,1))\n",
        "X_test = X_test.reshape(X_test.shape[0], *(28,28,1))"
      ],
      "metadata": {
        "collapsed": true,
        "id": "NBDzEdSHuRuh"
      },
      "execution_count": null,
      "outputs": []
    },
    {
      "cell_type": "code",
      "source": [
        "X_train = tf.image.resize(X_train,(2,2)).numpy()\n",
        "X_test = tf.image.resize(X_test, (2,2)).numpy()"
      ],
      "metadata": {
        "id": "znV3lm67wWcB"
      },
      "execution_count": null,
      "outputs": []
    },
    {
      "cell_type": "code",
      "source": [
        "plt.imshow(X_train[1, : , :, 0])\n",
        "plt.colorbar()\n",
        "plt.title(\"visualization of resized dataset\")\n",
        "plt.show()"
      ],
      "metadata": {
        "collapsed": true,
        "colab": {
          "base_uri": "https://localhost:8080/",
          "height": 452
        },
        "id": "Xg1F8smnu-fp",
        "outputId": "ff7a75a5-b50f-407d-8b75-881d2e4521d8"
      },
      "execution_count": null,
      "outputs": [
        {
          "output_type": "display_data",
          "data": {
            "text/plain": [
              "<Figure size 640x480 with 2 Axes>"
            ],
            "image/png": "[encoded data removed]"
          },
          "metadata": {}
        }
      ]
    },
    {
      "cell_type": "code",
      "source": [
        "X_train, X_valid, y_train, y_valid = train_test_split(X_train, y_train, test_size=0.15, random_state=0)"
      ],
      "metadata": {
        "id": "Ge9dOurrwIfl"
      },
      "execution_count": null,
      "outputs": []
    },
    {
      "cell_type": "code",
      "source": [
        "print(\"the shape of X_train is {}\".format(X_train.shape))\n",
        "print(\"the shape of y_train is {}\".format(y_train.shape))\n",
        "print(\"the shape of X_valid is {}\".format(X_valid.shape))\n",
        "print(\"the shape of y_valid is {}\".format(y_valid.shape))"
      ],
      "metadata": {
        "colab": {
          "base_uri": "https://localhost:8080/"
        },
        "id": "T7XJvA8XyUXM",
        "outputId": "18e5ede7-9228-4951-a88e-df9d10f6ed6e"
      },
      "execution_count": null,
      "outputs": [
        {
          "output_type": "stream",
          "name": "stdout",
          "text": [
            "the shape of X_train is (10200, 2, 2, 1)\n",
            "the shape of y_train is (10200,)\n",
            "the shape of X_valid is (1800, 2, 2, 1)\n",
            "the shape of y_valid is (1800,)\n"
          ]
        }
      ]
    },
    {
      "cell_type": "markdown",
      "source": [
        "Data encoding"
      ],
      "metadata": {
        "id": "bkYXAGryzdBa"
      }
    },
    {
      "cell_type": "code",
      "source": [
        "#flattening the images\n",
        "X_train = X_train.reshape(X_train.shape[0], *(1,4,1))\n",
        "X_valid = X_valid.reshape(X_valid.shape[0], *(1,4,1))\n",
        "X_test = X_test.reshape(X_test.shape[0], *(1,4,1))"
      ],
      "metadata": {
        "id": "DrNJlesyywwp"
      },
      "execution_count": null,
      "outputs": []
    },
    {
      "cell_type": "code",
      "source": [
        "print(X_valid[0])"
      ],
      "metadata": {
        "colab": {
          "base_uri": "https://localhost:8080/"
        },
        "id": "zOUIBIlszupU",
        "outputId": "6b958657-e913-4ac7-a7a0-d5b134a98b8d"
      },
      "execution_count": null,
      "outputs": [
        {
          "output_type": "stream",
          "name": "stdout",
          "text": [
            "[[[0.        ]\n",
            "  [0.        ]\n",
            "  [0.19803922]\n",
            "  [0.15392157]]]\n"
          ]
        }
      ]
    },
    {
      "cell_type": "code",
      "source": [
        "def binary_encode(x, threshold=0.5):\n",
        "  \"\"\"\n",
        "  Encodes the given dataset to use binary encoding\n",
        "\n",
        "  Parameters:\n",
        "  X (array) : Image data to be processed\n",
        "  threshold - threshold for binary encoding, 0.5 by default\n",
        "\n",
        "  Returns :\n",
        "  encoded_images (array) : binary encoded image data\n",
        "\n",
        "  if X > 0.5 :\n",
        "    X = 1\n",
        "  else :\n",
        "    X = 0\n",
        "\n",
        "  \"\"\"\n",
        "  encoded_images = list()\n",
        "  for image in x:\n",
        "    encoded_image = [1 if j>threshold else 0 for j in image[0]]\n",
        "    encoded_images.append(encoded_image)\n",
        "\n",
        "  return np.array(encoded_images)\n"
      ],
      "metadata": {
        "id": "E7WjRaUGzzQX"
      },
      "execution_count": null,
      "outputs": []
    },
    {
      "cell_type": "code",
      "source": [
        "X_train = binary_encode(X_train)"
      ],
      "metadata": {
        "id": "D4jbz5t00Xlq"
      },
      "execution_count": null,
      "outputs": []
    },
    {
      "cell_type": "code",
      "source": [
        "print(X_train[0])"
      ],
      "metadata": {
        "colab": {
          "base_uri": "https://localhost:8080/"
        },
        "id": "HhXdRc6V1bKJ",
        "outputId": "33ae4744-7524-428d-def5-f325aafdcb67"
      },
      "execution_count": null,
      "outputs": [
        {
          "output_type": "stream",
          "name": "stdout",
          "text": [
            "[0 0 1 1]\n"
          ]
        }
      ]
    },
    {
      "cell_type": "code",
      "source": [
        "print(\"the shape of X_train is {}\".format(X_train.shape))"
      ],
      "metadata": {
        "colab": {
          "base_uri": "https://localhost:8080/"
        },
        "id": "cDoPKa7E1k-i",
        "outputId": "5c31f922-513b-447c-c01b-adcb61726e70"
      },
      "execution_count": null,
      "outputs": [
        {
          "output_type": "stream",
          "name": "stdout",
          "text": [
            "the shape of X_train is (10200, 4)\n"
          ]
        }
      ]
    },
    {
      "cell_type": "code",
      "source": [
        "def create_circuit_from_image(encoded_image):\n",
        "  \"\"\"\n",
        "  Returns a circuit for given encoded images\n",
        "\n",
        "  \"\"\"\n",
        "  qubits = cirq.GridQubit.rect(2,2)\n",
        "  circuit = cirq.Circuit()\n",
        "\n",
        "  for i,pixel in enumerate(encoded_image):\n",
        "    if pixel :\n",
        "      circuit.append(cirq.X(qubits[i]))\n",
        "\n",
        "    return circuit"
      ],
      "metadata": {
        "id": "27ULC_JU2Lky"
      },
      "execution_count": null,
      "outputs": []
    },
    {
      "cell_type": "code",
      "source": [
        "X_train = [create_circuit_from_image(encoded_image) for encoded_image in X_train]"
      ],
      "metadata": {
        "id": "yjXz8PNKLa6e"
      },
      "execution_count": null,
      "outputs": []
    },
    {
      "cell_type": "code",
      "source": [
        "(X_train[1])"
      ],
      "metadata": {
        "colab": {
          "base_uri": "https://localhost:8080/",
          "height": 17
        },
        "id": "ElynXnaRLoWc",
        "outputId": "ddb1fe90-0f40-460f-d482-dab859a4b5b1"
      },
      "execution_count": null,
      "outputs": [
        {
          "output_type": "execute_result",
          "data": {
            "text/plain": [],
            "text/html": [
              "<pre style=\"overflow: auto; white-space: pre;\"></pre>"
            ]
          },
          "metadata": {},
          "execution_count": 36
        }
      ]
    },
    {
      "cell_type": "code",
      "source": [
        "X_train_tfq = tq.convert_to_tensor(X_train)"
      ],
      "metadata": {
        "id": "AFUnd3eaL2FN"
      },
      "execution_count": null,
      "outputs": []
    },
    {
      "cell_type": "code",
      "source": [
        "print(X_train_tfq[0])"
      ],
      "metadata": {
        "colab": {
          "base_uri": "https://localhost:8080/"
        },
        "id": "2k1Ys_5VMNpz",
        "outputId": "17db6ac7-0c32-4362-8b4e-5fa3c17d2c7d"
      },
      "execution_count": null,
      "outputs": [
        {
          "output_type": "stream",
          "name": "stdout",
          "text": [
            "tf.Tensor(b'\\n\\x0e\\n\\x0ctfq_gate_set\\x12\\x02\\x08\\x01', shape=(), dtype=string)\n"
          ]
        }
      ]
    },
    {
      "cell_type": "code",
      "source": [
        "X_valid = binary_encode(X_valid)\n",
        "X_test = binary_encode(X_test)"
      ],
      "metadata": {
        "id": "VnmEXCkoMbUl"
      },
      "execution_count": null,
      "outputs": []
    },
    {
      "cell_type": "code",
      "source": [
        "X_valid =  [create_circuit_from_image(encoded_image) for encoded_image in X_valid]\n",
        "X_test =  [create_circuit_from_image(encoded_image) for encoded_image in X_test]"
      ],
      "metadata": {
        "id": "ItvNNKRfMmdl"
      },
      "execution_count": null,
      "outputs": []
    },
    {
      "cell_type": "code",
      "source": [
        "X_valid_tfq = tq.convert_to_tensor(X_valid)\n",
        "X_test_tfq = tq.convert_to_tensor(X_test)"
      ],
      "metadata": {
        "id": "D9ek1im1MyI8"
      },
      "execution_count": null,
      "outputs": []
    },
    {
      "cell_type": "markdown",
      "source": [
        "Quantum Neural Network"
      ],
      "metadata": {
        "id": "i-xK2oBvM-Bm"
      }
    },
    {
      "cell_type": "code",
      "source": [
        "# 1. build class that adds gates layer by layer\n",
        "# 2. Define the QNN using class from above step\n",
        "\n",
        "class QNN():\n",
        "  def __init__(self, data_qubits, readout):\n",
        "    self.data_qubits = data_qubits\n",
        "    self.readout = readout\n",
        "\n",
        "  def add_singleQubit_gate(self, circuit, gate, qubit_index):\n",
        "    \"\"\"\n",
        "    Adds single qubit gate to the circuit\n",
        "\n",
        "    parameters:\n",
        "    circuit(cirq.Circuit object) : Cirq circuit\n",
        "    gate(cirq gate) : gate to append to the circuit\n",
        "    gate[cirq_gate] : gate to append to circuit\n",
        "    qubit_index(list) : index of qubits to apply the gate\n",
        "\n",
        "    Returns:\n",
        "    None\n",
        "\n",
        "    \"\"\"\n",
        "\n",
        "    for index in qubit_index:\n",
        "      circuit.append(gate(self.data_qubits[index]))\n",
        "\n",
        "  def add_twoQubit_gate(self, circuit, gate, qubit_index):\n",
        "\n",
        "    \"\"\"\n",
        "    Adds two qubit gate to the circuit\n",
        "\n",
        "    parameters:\n",
        "    circuit(cirq.Circuit object) : Cirq circuit\n",
        "    gate(cirq gate) : gate to append to the circuit\n",
        "    gate[cirq_gate] : gate to append to circuit\n",
        "    qubit_index(list) : index of qubits to apply the gate\n",
        "\n",
        "    Returns:\n",
        "    None\n",
        "\n",
        "    \"\"\"\n",
        "    if len(qubit_index)!= 2:\n",
        "      raise Exception(\"the length of the list of indices passed for two qubit \\ gate operations must be equal to two\")\n",
        "\n",
        "    circuit.append(gate(self.data_qubits[qubit_index[0]], self.data_qubits[qubit_index[1]]))\n",
        "\n",
        "  def add_layer(self, circuit, gate, symbol_gate):\n",
        "\n",
        "    \"\"\"\n",
        "    Adds new gates/layers to the circuit\n",
        "\n",
        "    parameters:\n",
        "    circuit(cirq.Circuit object) : Cirq circuit\n",
        "    gate(cirq gate) : gate to append to the circuit\n",
        "    gate[cirq_gate] : gate to append to circuit\n",
        "    qubit_index(list) : index of qubits to apply the gate\n",
        "\n",
        "    Returns:\n",
        "    None\n",
        "\n",
        "    \"\"\"\n",
        "\n",
        "    for i,qubit in enumerate(self.data_qubits):\n",
        "      # symbol = sympy.Symbol(symbol_gate, '-' + str(i))\n",
        "      symbol = sympy.Symbol(symbol_gate+ '-' + str(i))\n",
        "      circuit.append(gate(qubit, self.readout)**symbol)\n",
        "\n"
      ],
      "metadata": {
        "id": "XTwfgm-DNBru"
      },
      "execution_count": null,
      "outputs": []
    },
    {
      "cell_type": "code",
      "source": [
        "#encoding data into circuits\n",
        "#applying gates to circuit\n",
        "# measurement -> way of getting output from qml.\n",
        "\n",
        "def create_qnn():\n",
        "  data_qubits = cirq.GridQubit.rect(2,2)\n",
        "  readout = cirq.GridQubit(-1,-1)\n",
        "  circuit = cirq.Circuit()\n",
        "\n",
        "  circuit.append(cirq.X(readout))\n",
        "  circuit.append(cirq.H(readout))\n",
        "\n",
        "  qnn = QNN(\n",
        "      data_qubits = data_qubits,\n",
        "      readout = readout\n",
        "  )\n",
        "\n",
        "  qnn.add_layer(circuit, cirq.XX, \"xx\")\n",
        "  qnn.add_layer(circuit, cirq.ZZ, \"zz\")\n",
        "\n",
        "  circuit.append(cirq.H(readout))\n",
        "\n",
        "  return circuit, cirq.Z(readout)"
      ],
      "metadata": {
        "id": "USgO7VH4Qu9d"
      },
      "execution_count": null,
      "outputs": []
    },
    {
      "cell_type": "code",
      "source": [
        "qmodel, model_readout = create_qnn()"
      ],
      "metadata": {
        "id": "BIpJUXtESf3N"
      },
      "execution_count": null,
      "outputs": []
    },
    {
      "cell_type": "code",
      "source": [
        "SVGCircuit(qmodel)"
      ],
      "metadata": {
        "colab": {
          "base_uri": "https://localhost:8080/",
          "height": 699
        },
        "id": "lq2t5LAsTIjh",
        "outputId": "86b89fe6-2957-40e8-df15-290f265872c3"
      },
      "execution_count": null,
      "outputs": [
        {
          "output_type": "stream",
          "name": "stderr",
          "text": [
            "WARNING:matplotlib.font_manager:findfont: Font family 'Arial' not found.\n",
            "WARNING:matplotlib.font_manager:findfont: Font family 'Arial' not found.\n",
            "WARNING:matplotlib.font_manager:findfont: Font family 'Arial' not found.\n",
            "WARNING:matplotlib.font_manager:findfont: Font family 'Arial' not found.\n",
            "WARNING:matplotlib.font_manager:findfont: Font family 'Arial' not found.\n",
            "WARNING:matplotlib.font_manager:findfont: Font family 'Arial' not found.\n",
            "WARNING:matplotlib.font_manager:findfont: Font family 'Arial' not found.\n",
            "WARNING:matplotlib.font_manager:findfont: Font family 'Arial' not found.\n",
            "WARNING:matplotlib.font_manager:findfont: Font family 'Arial' not found.\n",
            "WARNING:matplotlib.font_manager:findfont: Font family 'Arial' not found.\n",
            "WARNING:matplotlib.font_manager:findfont: Font family 'Arial' not found.\n",
            "WARNING:matplotlib.font_manager:findfont: Font family 'Arial' not found.\n",
            "WARNING:matplotlib.font_manager:findfont: Font family 'Arial' not found.\n",
            "WARNING:matplotlib.font_manager:findfont: Font family 'Arial' not found.\n",
            "WARNING:matplotlib.font_manager:findfont: Font family 'Arial' not found.\n",
            "WARNING:matplotlib.font_manager:findfont: Font family 'Arial' not found.\n",
            "WARNING:matplotlib.font_manager:findfont: Font family 'Arial' not found.\n",
            "WARNING:matplotlib.font_manager:findfont: Font family 'Arial' not found.\n",
            "WARNING:matplotlib.font_manager:findfont: Font family 'Arial' not found.\n",
            "WARNING:matplotlib.font_manager:findfont: Font family 'Arial' not found.\n",
            "WARNING:matplotlib.font_manager:findfont: Font family 'Arial' not found.\n",
            "WARNING:matplotlib.font_manager:findfont: Font family 'Arial' not found.\n",
            "WARNING:matplotlib.font_manager:findfont: Font family 'Arial' not found.\n",
            "WARNING:matplotlib.font_manager:findfont: Font family 'Arial' not found.\n"
          ]
        },
        {
          "output_type": "execute_result",
          "data": {
            "text/plain": [
              "<cirq.contrib.svg.svg.SVGCircuit at 0x78e62434e380>"
            ],
            "image/svg+xml": "<svg xmlns=\"http://www.w3.org/2000/svg\" width=\"1097.236875\" height=\"250.0\"><line x1=\"39.810625\" x2=\"1067.236875\" y1=\"25.0\" y2=\"25.0\" stroke=\"#1967d2\" stroke-width=\"1\" /><line x1=\"39.810625\" x2=\"1067.236875\" y1=\"75.0\" y2=\"75.0\" stroke=\"#1967d2\" stroke-width=\"1\" /><line x1=\"39.810625\" x2=\"1067.236875\" y1=\"125.0\" y2=\"125.0\" stroke=\"#1967d2\" stroke-width=\"1\" /><line x1=\"39.810625\" x2=\"1067.236875\" y1=\"175.0\" y2=\"175.0\" stroke=\"#1967d2\" stroke-width=\"1\" /><line x1=\"39.810625\" x2=\"1067.236875\" y1=\"225.0\" y2=\"225.0\" stroke=\"#1967d2\" stroke-width=\"1\" /><line x1=\"249.99353515625\" x2=\"249.99353515625\" y1=\"25.0\" y2=\"75.0\" stroke=\"black\" stroke-width=\"3\" /><line x1=\"350.73810546875006\" x2=\"350.73810546875006\" y1=\"25.0\" y2=\"125.0\" stroke=\"black\" stroke-width=\"3\" /><line x1=\"451.48267578125007\" x2=\"451.48267578125007\" y1=\"25.0\" y2=\"175.0\" stroke=\"black\" stroke-width=\"3\" /><line x1=\"552.2272460937501\" x2=\"552.2272460937501\" y1=\"25.0\" y2=\"225.0\" stroke=\"black\" stroke-width=\"3\" /><line x1=\"651.92919921875\" x2=\"651.92919921875\" y1=\"25.0\" y2=\"75.0\" stroke=\"black\" stroke-width=\"3\" /><line x1=\"750.58853515625\" x2=\"750.58853515625\" y1=\"25.0\" y2=\"125.0\" stroke=\"black\" stroke-width=\"3\" /><line x1=\"849.2478710937501\" x2=\"849.2478710937501\" y1=\"25.0\" y2=\"175.0\" stroke=\"black\" stroke-width=\"3\" /><line x1=\"947.9072070312501\" x2=\"947.9072070312501\" y1=\"25.0\" y2=\"225.0\" stroke=\"black\" stroke-width=\"3\" /><rect x=\"10.0\" y=\"5.0\" width=\"59.62125\" height=\"40\" stroke=\"black\" fill=\"white\" stroke-width=\"0\" /><text x=\"39.810625\" y=\"25.0\" dominant-baseline=\"middle\" text-anchor=\"middle\" font-size=\"14px\" font-family=\"Arial:style=normal:variant=normal:weight=normal:stretch=normal:size=10.0\">(-1, -1): </text><rect x=\"10.0\" y=\"55.0\" width=\"59.62125\" height=\"40\" stroke=\"black\" fill=\"white\" stroke-width=\"0\" /><text x=\"39.810625\" y=\"75.0\" dominant-baseline=\"middle\" text-anchor=\"middle\" font-size=\"14px\" font-family=\"Arial:style=normal:variant=normal:weight=normal:stretch=normal:size=10.0\">(0, 0): </text><rect x=\"10.0\" y=\"105.0\" width=\"59.62125\" height=\"40\" stroke=\"black\" fill=\"white\" stroke-width=\"0\" /><text x=\"39.810625\" y=\"125.0\" dominant-baseline=\"middle\" text-anchor=\"middle\" font-size=\"14px\" font-family=\"Arial:style=normal:variant=normal:weight=normal:stretch=normal:size=10.0\">(0, 1): </text><rect x=\"10.0\" y=\"155.0\" width=\"59.62125\" height=\"40\" stroke=\"black\" fill=\"white\" stroke-width=\"0\" /><text x=\"39.810625\" y=\"175.0\" dominant-baseline=\"middle\" text-anchor=\"middle\" font-size=\"14px\" font-family=\"Arial:style=normal:variant=normal:weight=normal:stretch=normal:size=10.0\">(1, 0): </text><rect x=\"10.0\" y=\"205.0\" width=\"59.62125\" height=\"40\" stroke=\"black\" fill=\"white\" stroke-width=\"0\" /><text x=\"39.810625\" y=\"225.0\" dominant-baseline=\"middle\" text-anchor=\"middle\" font-size=\"14px\" font-family=\"Arial:style=normal:variant=normal:weight=normal:stretch=normal:size=10.0\">(1, 1): </text><rect x=\"89.62125\" y=\"5.0\" width=\"40\" height=\"40\" stroke=\"black\" fill=\"white\" stroke-width=\"1\" /><text x=\"109.62125\" y=\"25.0\" dominant-baseline=\"middle\" text-anchor=\"middle\" font-size=\"18px\" font-family=\"Arial:style=normal:variant=normal:weight=normal:stretch=normal:size=10.0\">X</text><rect x=\"149.62125\" y=\"5.0\" width=\"40\" height=\"40\" stroke=\"black\" fill=\"white\" stroke-width=\"1\" /><text x=\"169.62125\" y=\"25.0\" dominant-baseline=\"middle\" text-anchor=\"middle\" font-size=\"18px\" font-family=\"Arial:style=normal:variant=normal:weight=normal:stretch=normal:size=10.0\">H</text><rect x=\"209.62125\" y=\"55.0\" width=\"80.74457031250002\" height=\"40\" stroke=\"black\" fill=\"white\" stroke-width=\"1\" /><text x=\"249.99353515625\" y=\"75.0\" dominant-baseline=\"middle\" text-anchor=\"middle\" font-size=\"14px\" font-family=\"Arial:style=normal:variant=normal:weight=normal:stretch=normal:size=10.0\">XX^(xx-0)</text><rect x=\"209.62125\" y=\"5.0\" width=\"80.74457031250002\" height=\"40\" stroke=\"black\" fill=\"white\" stroke-width=\"1\" /><text x=\"249.99353515625\" y=\"25.0\" dominant-baseline=\"middle\" text-anchor=\"middle\" font-size=\"14px\" font-family=\"Arial:style=normal:variant=normal:weight=normal:stretch=normal:size=10.0\">XX</text><rect x=\"310.36582031250003\" y=\"105.0\" width=\"80.74457031250002\" height=\"40\" stroke=\"black\" fill=\"white\" stroke-width=\"1\" /><text x=\"350.73810546875006\" y=\"125.0\" dominant-baseline=\"middle\" text-anchor=\"middle\" font-size=\"14px\" font-family=\"Arial:style=normal:variant=normal:weight=normal:stretch=normal:size=10.0\">XX^(xx-1)</text><rect x=\"310.36582031250003\" y=\"5.0\" width=\"80.74457031250002\" height=\"40\" stroke=\"black\" fill=\"white\" stroke-width=\"1\" /><text x=\"350.73810546875006\" y=\"25.0\" dominant-baseline=\"middle\" text-anchor=\"middle\" font-size=\"14px\" font-family=\"Arial:style=normal:variant=normal:weight=normal:stretch=normal:size=10.0\">XX</text><rect x=\"411.11039062500004\" y=\"155.0\" width=\"80.74457031250002\" height=\"40\" stroke=\"black\" fill=\"white\" stroke-width=\"1\" /><text x=\"451.48267578125007\" y=\"175.0\" dominant-baseline=\"middle\" text-anchor=\"middle\" font-size=\"14px\" font-family=\"Arial:style=normal:variant=normal:weight=normal:stretch=normal:size=10.0\">XX^(xx-2)</text><rect x=\"411.11039062500004\" y=\"5.0\" width=\"80.74457031250002\" height=\"40\" stroke=\"black\" fill=\"white\" stroke-width=\"1\" /><text x=\"451.48267578125007\" y=\"25.0\" dominant-baseline=\"middle\" text-anchor=\"middle\" font-size=\"14px\" font-family=\"Arial:style=normal:variant=normal:weight=normal:stretch=normal:size=10.0\">XX</text><rect x=\"511.85496093750004\" y=\"205.0\" width=\"80.74457031250002\" height=\"40\" stroke=\"black\" fill=\"white\" stroke-width=\"1\" /><text x=\"552.2272460937501\" y=\"225.0\" dominant-baseline=\"middle\" text-anchor=\"middle\" font-size=\"14px\" font-family=\"Arial:style=normal:variant=normal:weight=normal:stretch=normal:size=10.0\">XX^(xx-3)</text><rect x=\"511.85496093750004\" y=\"5.0\" width=\"80.74457031250002\" height=\"40\" stroke=\"black\" fill=\"white\" stroke-width=\"1\" /><text x=\"552.2272460937501\" y=\"25.0\" dominant-baseline=\"middle\" text-anchor=\"middle\" font-size=\"14px\" font-family=\"Arial:style=normal:variant=normal:weight=normal:stretch=normal:size=10.0\">XX</text><rect x=\"612.59953125\" y=\"55.0\" width=\"78.65933593750002\" height=\"40\" stroke=\"black\" fill=\"white\" stroke-width=\"1\" /><text x=\"651.92919921875\" y=\"75.0\" dominant-baseline=\"middle\" text-anchor=\"middle\" font-size=\"14px\" font-family=\"Arial:style=normal:variant=normal:weight=normal:stretch=normal:size=10.0\">ZZ^(zz-0)</text><rect x=\"612.59953125\" y=\"5.0\" width=\"78.65933593750002\" height=\"40\" stroke=\"black\" fill=\"white\" stroke-width=\"1\" /><text x=\"651.92919921875\" y=\"25.0\" dominant-baseline=\"middle\" text-anchor=\"middle\" font-size=\"14px\" font-family=\"Arial:style=normal:variant=normal:weight=normal:stretch=normal:size=10.0\">ZZ</text><rect x=\"711.2588671875001\" y=\"105.0\" width=\"78.65933593750002\" height=\"40\" stroke=\"black\" fill=\"white\" stroke-width=\"1\" /><text x=\"750.58853515625\" y=\"125.0\" dominant-baseline=\"middle\" text-anchor=\"middle\" font-size=\"14px\" font-family=\"Arial:style=normal:variant=normal:weight=normal:stretch=normal:size=10.0\">ZZ^(zz-1)</text><rect x=\"711.2588671875001\" y=\"5.0\" width=\"78.65933593750002\" height=\"40\" stroke=\"black\" fill=\"white\" stroke-width=\"1\" /><text x=\"750.58853515625\" y=\"25.0\" dominant-baseline=\"middle\" text-anchor=\"middle\" font-size=\"14px\" font-family=\"Arial:style=normal:variant=normal:weight=normal:stretch=normal:size=10.0\">ZZ</text><rect x=\"809.9182031250001\" y=\"155.0\" width=\"78.65933593750002\" height=\"40\" stroke=\"black\" fill=\"white\" stroke-width=\"1\" /><text x=\"849.2478710937501\" y=\"175.0\" dominant-baseline=\"middle\" text-anchor=\"middle\" font-size=\"14px\" font-family=\"Arial:style=normal:variant=normal:weight=normal:stretch=normal:size=10.0\">ZZ^(zz-2)</text><rect x=\"809.9182031250001\" y=\"5.0\" width=\"78.65933593750002\" height=\"40\" stroke=\"black\" fill=\"white\" stroke-width=\"1\" /><text x=\"849.2478710937501\" y=\"25.0\" dominant-baseline=\"middle\" text-anchor=\"middle\" font-size=\"14px\" font-family=\"Arial:style=normal:variant=normal:weight=normal:stretch=normal:size=10.0\">ZZ</text><rect x=\"908.5775390625001\" y=\"205.0\" width=\"78.65933593750002\" height=\"40\" stroke=\"black\" fill=\"white\" stroke-width=\"1\" /><text x=\"947.9072070312501\" y=\"225.0\" dominant-baseline=\"middle\" text-anchor=\"middle\" font-size=\"14px\" font-family=\"Arial:style=normal:variant=normal:weight=normal:stretch=normal:size=10.0\">ZZ^(zz-3)</text><rect x=\"908.5775390625001\" y=\"5.0\" width=\"78.65933593750002\" height=\"40\" stroke=\"black\" fill=\"white\" stroke-width=\"1\" /><text x=\"947.9072070312501\" y=\"25.0\" dominant-baseline=\"middle\" text-anchor=\"middle\" font-size=\"14px\" font-family=\"Arial:style=normal:variant=normal:weight=normal:stretch=normal:size=10.0\">ZZ</text><rect x=\"1007.236875\" y=\"5.0\" width=\"40\" height=\"40\" stroke=\"black\" fill=\"white\" stroke-width=\"1\" /><text x=\"1027.236875\" y=\"25.0\" dominant-baseline=\"middle\" text-anchor=\"middle\" font-size=\"18px\" font-family=\"Arial:style=normal:variant=normal:weight=normal:stretch=normal:size=10.0\">H</text></svg>"
          },
          "metadata": {},
          "execution_count": 50
        }
      ]
    },
    {
      "cell_type": "code",
      "source": [
        "model = tf.keras.Sequential(\n",
        "    [\n",
        "        tf.keras.layers.Input(shape=(), dtype=tf.string),\n",
        "\n",
        "        tq.layers.PQC(qmodel, model_readout),\n",
        "    ]\n",
        ")"
      ],
      "metadata": {
        "id": "B_dkklGNTP8h"
      },
      "execution_count": null,
      "outputs": []
    },
    {
      "cell_type": "code",
      "source": [
        "y_train_h = np.array([1 if i==1 else -1 for i in y_train ])\n",
        "y_valid_h = np.array([1 if i==1 else -1 for i in y_valid ])\n",
        "y_test_h = np.array([1 if i==1 else -1 for i in y_test ])"
      ],
      "metadata": {
        "id": "PM0sG-nXUzGl"
      },
      "execution_count": null,
      "outputs": []
    },
    {
      "cell_type": "code",
      "source": [
        "print(y_train_h[0])"
      ],
      "metadata": {
        "colab": {
          "base_uri": "https://localhost:8080/"
        },
        "id": "QlPo1Th9U96b",
        "outputId": "4d24b995-a729-45ca-bd36-aac47c1f6e29"
      },
      "execution_count": null,
      "outputs": [
        {
          "output_type": "stream",
          "name": "stdout",
          "text": [
            "1\n"
          ]
        }
      ]
    },
    {
      "cell_type": "code",
      "source": [
        "def hinge_accuracy(y_true, y_pred):\n",
        "    y_true = tf.squeeze(y_true) > 0.0\n",
        "    y_pred = tf.squeeze(y_pred) > 0.0\n",
        "    result = tf.cast(y_true == y_pred, tf.float32)\n",
        "\n",
        "    return tf.reduce_mean(result)"
      ],
      "metadata": {
        "id": "Z00mTZtPVA2s"
      },
      "execution_count": null,
      "outputs": []
    },
    {
      "cell_type": "code",
      "source": [
        "model.compile(\n",
        "    loss=tf.keras.losses.Hinge(),\n",
        "    optimizer=tf.keras.optimizers.Adam(learning_rate=0.001),\n",
        "    metrics=[hinge_accuracy])"
      ],
      "metadata": {
        "id": "mCKMqHG2VEKK"
      },
      "execution_count": null,
      "outputs": []
    },
    {
      "cell_type": "code",
      "source": [
        "qnn_history = model.fit(\n",
        "      X_train_tfq, y_train_h,\n",
        "      batch_size=64,\n",
        "      epochs=10,\n",
        "      verbose=1,\n",
        "      validation_data=(X_valid_tfq, y_valid_h))"
      ],
      "metadata": {
        "colab": {
          "base_uri": "https://localhost:8080/"
        },
        "id": "G1bXCIuHVHPk",
        "outputId": "4ea48b03-a766-4f2e-ed95-25fee839af9b"
      },
      "execution_count": null,
      "outputs": [
        {
          "output_type": "stream",
          "name": "stdout",
          "text": [
            "Epoch 1/10\n",
            "160/160 [==============================] - 11s 52ms/step - loss: 1.0006 - hinge_accuracy: 0.4994 - val_loss: 0.9983 - val_hinge_accuracy: 0.5005\n",
            "Epoch 2/10\n",
            "160/160 [==============================] - 9s 58ms/step - loss: 1.0009 - hinge_accuracy: 0.4994 - val_loss: 0.9986 - val_hinge_accuracy: 0.5005\n",
            "Epoch 3/10\n",
            "160/160 [==============================] - 8s 51ms/step - loss: 1.0007 - hinge_accuracy: 0.4994 - val_loss: 0.9984 - val_hinge_accuracy: 0.5005\n",
            "Epoch 4/10\n",
            "160/160 [==============================] - 9s 55ms/step - loss: 1.0008 - hinge_accuracy: 0.4986 - val_loss: 0.9985 - val_hinge_accuracy: 0.5005\n",
            "Epoch 5/10\n",
            "160/160 [==============================] - 8s 49ms/step - loss: 1.0005 - hinge_accuracy: 0.4997 - val_loss: 0.9990 - val_hinge_accuracy: 0.5005\n",
            "Epoch 6/10\n",
            "160/160 [==============================] - 8s 49ms/step - loss: 1.0005 - hinge_accuracy: 0.4989 - val_loss: 0.9989 - val_hinge_accuracy: 0.5005\n",
            "Epoch 7/10\n",
            "160/160 [==============================] - 8s 51ms/step - loss: 1.0004 - hinge_accuracy: 0.4991 - val_loss: 0.9990 - val_hinge_accuracy: 0.5005\n",
            "Epoch 8/10\n",
            "160/160 [==============================] - 8s 48ms/step - loss: 1.0007 - hinge_accuracy: 0.4991 - val_loss: 0.9992 - val_hinge_accuracy: 0.5005\n",
            "Epoch 9/10\n",
            "160/160 [==============================] - 9s 58ms/step - loss: 1.0007 - hinge_accuracy: 0.4923 - val_loss: 0.9997 - val_hinge_accuracy: 0.5005\n",
            "Epoch 10/10\n",
            "160/160 [==============================] - 7s 42ms/step - loss: 1.0006 - hinge_accuracy: 0.4948 - val_loss: 0.9996 - val_hinge_accuracy: 0.5005\n"
          ]
        }
      ]
    },
    {
      "cell_type": "code",
      "source": [
        "model.evaluate(X_test_tfq, y_test_h)"
      ],
      "metadata": {
        "colab": {
          "base_uri": "https://localhost:8080/"
        },
        "id": "s36yBPRjVLVe",
        "outputId": "18482d84-fb72-4a6f-a50a-889fa26b5d77"
      },
      "execution_count": null,
      "outputs": [
        {
          "output_type": "stream",
          "name": "stdout",
          "text": [
            "63/63 [==============================] - 1s 23ms/step - loss: 0.9999 - hinge_accuracy: 0.5000\n"
          ]
        },
        {
          "output_type": "execute_result",
          "data": {
            "text/plain": [
              "[0.9999096393585205, 0.5]"
            ]
          },
          "metadata": {},
          "execution_count": 57
        }
      ]
    },
    {
      "cell_type": "code",
      "source": [
        "plt.plot(qnn_history.history['hinge_accuracy'])\n",
        "plt.plot(qnn_history.history['val_hinge_accuracy'])\n",
        "plt.title('Model Accuracy')\n",
        "plt.xlabel('Epoch')\n",
        "plt.ylabel('Accuracy')\n",
        "plt.legend(['train','test'],loc=\"best\")\n",
        "plt.show()"
      ],
      "metadata": {
        "colab": {
          "base_uri": "https://localhost:8080/",
          "height": 472
        },
        "id": "8Js_X0HxVOMm",
        "outputId": "7b0dcc55-f6c9-4da6-e3f9-779a25f7946b"
      },
      "execution_count": null,
      "outputs": [
        {
          "output_type": "display_data",
          "data": {
            "text/plain": [
              "<Figure size 640x480 with 1 Axes>"
            ],
            "image/png": "[encoded data removed]"
          },
          "metadata": {}
        }
      ]
    },
    {
      "cell_type": "code",
      "source": [
        "plt.plot(qnn_history.history['loss'])\n",
        "plt.plot(qnn_history.history['val_loss'])\n",
        "plt.title('Model Loss')\n",
        "plt.xlabel('Epoch')\n",
        "plt.ylabel('Loss')\n",
        "plt.legend(['train','test'],loc=\"best\")\n",
        "plt.show()"
      ],
      "metadata": {
        "colab": {
          "base_uri": "https://localhost:8080/",
          "height": 472
        },
        "id": "KNH6WdsfVQxM",
        "outputId": "725a815e-b047-4de7-a269-38e540f01587"
      },
      "execution_count": null,
      "outputs": [
        {
          "output_type": "display_data",
          "data": {
            "text/plain": [
              "<Figure size 640x480 with 1 Axes>"
            ],
            "image/png": "[encoded data removed]"
          },
          "metadata": {}
        }
      ]
    },
    {
      "cell_type": "code",
      "source": [
        "model.save_weights('/content/sample_data/QModelWeights')"
      ],
      "metadata": {
        "id": "r-YsxZ-4VTv9"
      },
      "execution_count": null,
      "outputs": []
    }
  ]
}